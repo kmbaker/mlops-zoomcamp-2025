{
 "cells": [
  {
   "cell_type": "code",
   "execution_count": 1,
   "id": "58aa3440",
   "metadata": {},
   "outputs": [
    {
     "name": "stdout",
     "output_type": "stream",
     "text": [
      "Python 3.9.12\r\n"
     ]
    }
   ],
   "source": [
    "!python -V # get python version"
   ]
  },
  {
   "cell_type": "code",
   "execution_count": 19,
   "id": "a1dd6937",
   "metadata": {},
   "outputs": [],
   "source": [
    "import pandas as pd\n",
    "import seaborn as sns\n",
    "import matplotlib.pyplot as plt"
   ]
  },
  {
   "cell_type": "code",
   "execution_count": 35,
   "id": "5acae871",
   "metadata": {},
   "outputs": [
    {
     "name": "stdout",
     "output_type": "stream",
     "text": [
      "Requirement already satisfied: pyarrow in /home/codespace/anaconda3/lib/python3.9/site-packages (20.0.0)\r\n"
     ]
    }
   ],
   "source": [
    "!pip install pyarrow # read parquet files"
   ]
  },
  {
   "cell_type": "code",
   "execution_count": 36,
   "id": "6df64db7",
   "metadata": {},
   "outputs": [],
   "source": [
    "# Get Jan and Feb 2021 green taxi data from NYC website\n",
    "df_jan2021 = pd.read_parquet('https://d37ci6vzurychx.cloudfront.net/trip-data/green_tripdata_2021-01.parquet')\n",
    "df_feb2021 = pd.read_parquet('https://d37ci6vzurychx.cloudfront.net/trip-data/green_tripdata_2021-02.parquet')"
   ]
  },
  {
   "cell_type": "code",
   "execution_count": 37,
   "id": "002dfa9c",
   "metadata": {},
   "outputs": [],
   "source": [
    "# Convert str to datetime for drop off and pickup dates\n",
    "df_jan2021.lpep_dropoff_datetime = pd.to_datetime(df_jan2021.lpep_dropoff_datetime)\n",
    "df_jan2021.lpep_pickup_datetime = pd.to_datetime(df_jan2021.lpep_pickup_datetime)"
   ]
  },
  {
   "cell_type": "code",
   "execution_count": 38,
   "id": "bb931095",
   "metadata": {},
   "outputs": [],
   "source": [
    "# Calculate trip duration\n",
    "df_jan2021['duration'] = df_jan2021.lpep_dropoff_datetime - df_jan2021.lpep_pickup_datetime\n",
    "\n",
    "# Convert trip duration to minutes\n",
    "df_jan2021.duration = df_jan2021.duration.apply(lambda td: td.total_seconds() / 60)"
   ]
  },
  {
   "cell_type": "code",
   "execution_count": 39,
   "id": "a40e7826",
   "metadata": {},
   "outputs": [
    {
     "data": {
      "text/plain": [
       "count    76518.000000\n",
       "mean        19.927896\n",
       "std         59.338594\n",
       "min          0.000000\n",
       "50%         13.883333\n",
       "95%         44.000000\n",
       "98%         56.000000\n",
       "99%         67.158167\n",
       "max       1439.600000\n",
       "Name: duration, dtype: float64"
      ]
     },
     "execution_count": 39,
     "metadata": {},
     "output_type": "execute_result"
    }
   ],
   "source": [
    "# Look at percentile durations\n",
    "df_jan2021.duration.describe(percentiles=[0.95, 0.98, 0.99])"
   ]
  },
  {
   "cell_type": "code",
   "execution_count": 40,
   "id": "54d13ae6",
   "metadata": {},
   "outputs": [
    {
     "data": {
      "text/plain": [
       "0.9658903787344154"
      ]
     },
     "execution_count": 40,
     "metadata": {},
     "output_type": "execute_result"
    }
   ],
   "source": [
    "# What percentage of trips range from 1 to 60 minutes?\n",
    "((df_jan2021.duration >= 1) & (df_jan2021.duration <= 60)).mean()"
   ]
  },
  {
   "cell_type": "code",
   "execution_count": 42,
   "id": "9c001a6e",
   "metadata": {},
   "outputs": [],
   "source": [
    "# Create a subset of trips of at least a minute and no more than 60 minutes\n",
    "subset_jan2021 = df_jan2021[(df_jan2021.duration >= 1) & (df_jan2021.duration <= 60)]"
   ]
  },
  {
   "cell_type": "code",
   "execution_count": null,
   "id": "bc3103e5",
   "metadata": {},
   "outputs": [],
   "source": []
  }
 ],
 "metadata": {
  "kernelspec": {
   "display_name": "Python 3 (ipykernel)",
   "language": "python",
   "name": "python3"
  },
  "language_info": {
   "codemirror_mode": {
    "name": "ipython",
    "version": 3
   },
   "file_extension": ".py",
   "mimetype": "text/x-python",
   "name": "python",
   "nbconvert_exporter": "python",
   "pygments_lexer": "ipython3",
   "version": "3.9.12"
  }
 },
 "nbformat": 4,
 "nbformat_minor": 5
}
